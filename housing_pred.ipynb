{
  "nbformat": 4,
  "nbformat_minor": 0,
  "metadata": {
    "colab": {
      "name": "housing_pred.ipynb",
      "provenance": [],
      "collapsed_sections": []
    },
    "kernelspec": {
      "name": "python3",
      "display_name": "Python 3"
    },
    "accelerator": "GPU"
  },
  "cells": [
    {
      "cell_type": "code",
      "metadata": {
        "id": "UleC6zuEls3a",
        "colab_type": "code",
        "colab": {}
      },
      "source": [
        "import numpy as np\n",
        "import pandas as pd\n",
        "from matplotlib import pyplot"
      ],
      "execution_count": 0,
      "outputs": []
    },
    {
      "cell_type": "code",
      "metadata": {
        "id": "q6rfkiMb61zC",
        "colab_type": "code",
        "colab": {}
      },
      "source": [
        "x_train = pd.read_csv(\"/content/drive/My Drive/house price/x_train.csv\")"
      ],
      "execution_count": 0,
      "outputs": []
    },
    {
      "cell_type": "code",
      "metadata": {
        "id": "EZtPclRR7glE",
        "colab_type": "code",
        "colab": {
          "base_uri": "https://localhost:8080/",
          "height": 253
        },
        "outputId": "d66432de-8eee-4c0b-c6a5-cf5a6b92565c"
      },
      "source": [
        "x_train.head()"
      ],
      "execution_count": 3,
      "outputs": [
        {
          "output_type": "execute_result",
          "data": {
            "text/html": [
              "<div>\n",
              "<style scoped>\n",
              "    .dataframe tbody tr th:only-of-type {\n",
              "        vertical-align: middle;\n",
              "    }\n",
              "\n",
              "    .dataframe tbody tr th {\n",
              "        vertical-align: top;\n",
              "    }\n",
              "\n",
              "    .dataframe thead th {\n",
              "        text-align: right;\n",
              "    }\n",
              "</style>\n",
              "<table border=\"1\" class=\"dataframe\">\n",
              "  <thead>\n",
              "    <tr style=\"text-align: right;\">\n",
              "      <th></th>\n",
              "      <th>1stFlrSF</th>\n",
              "      <th>2ndFlrSF</th>\n",
              "      <th>3SsnPorch</th>\n",
              "      <th>BedroomAbvGr</th>\n",
              "      <th>BsmtFinSF1</th>\n",
              "      <th>BsmtFinSF2</th>\n",
              "      <th>BsmtFullBath</th>\n",
              "      <th>BsmtHalfBath</th>\n",
              "      <th>BsmtUnfSF</th>\n",
              "      <th>EnclosedPorch</th>\n",
              "      <th>Fireplaces</th>\n",
              "      <th>FullBath</th>\n",
              "      <th>GarageArea</th>\n",
              "      <th>GarageCars</th>\n",
              "      <th>GarageYrBlt</th>\n",
              "      <th>GrLivArea</th>\n",
              "      <th>HalfBath</th>\n",
              "      <th>KitchenAbvGr</th>\n",
              "      <th>LotArea</th>\n",
              "      <th>LotFrontage</th>\n",
              "      <th>LowQualFinSF</th>\n",
              "      <th>MSSubClass</th>\n",
              "      <th>MasVnrArea</th>\n",
              "      <th>MiscVal</th>\n",
              "      <th>MoSold</th>\n",
              "      <th>OpenPorchSF</th>\n",
              "      <th>OverallCond</th>\n",
              "      <th>OverallQual</th>\n",
              "      <th>PoolArea</th>\n",
              "      <th>ScreenPorch</th>\n",
              "      <th>TotRmsAbvGrd</th>\n",
              "      <th>TotalBsmtSF</th>\n",
              "      <th>WoodDeckSF</th>\n",
              "      <th>YearBuilt</th>\n",
              "      <th>YearRemodAdd</th>\n",
              "      <th>YrSold</th>\n",
              "      <th>FV</th>\n",
              "      <th>RH</th>\n",
              "      <th>RL</th>\n",
              "      <th>RM</th>\n",
              "      <th>...</th>\n",
              "      <th>No</th>\n",
              "      <th>BLQ</th>\n",
              "      <th>GLQ</th>\n",
              "      <th>LwQ</th>\n",
              "      <th>Rec</th>\n",
              "      <th>Unf</th>\n",
              "      <th>GasA</th>\n",
              "      <th>GasW</th>\n",
              "      <th>Grav</th>\n",
              "      <th>OthW</th>\n",
              "      <th>Wall</th>\n",
              "      <th>Y</th>\n",
              "      <th>FuseF</th>\n",
              "      <th>FuseP</th>\n",
              "      <th>Mix</th>\n",
              "      <th>SBrkr</th>\n",
              "      <th>Maj2</th>\n",
              "      <th>Min1</th>\n",
              "      <th>Min2</th>\n",
              "      <th>Typ</th>\n",
              "      <th>Attchd</th>\n",
              "      <th>Basment</th>\n",
              "      <th>BuiltIn</th>\n",
              "      <th>CarPort</th>\n",
              "      <th>Detchd</th>\n",
              "      <th>RFn</th>\n",
              "      <th>P</th>\n",
              "      <th>CWD</th>\n",
              "      <th>Con</th>\n",
              "      <th>ConLD</th>\n",
              "      <th>ConLI</th>\n",
              "      <th>ConLw</th>\n",
              "      <th>New</th>\n",
              "      <th>Oth</th>\n",
              "      <th>WD</th>\n",
              "      <th>AdjLand</th>\n",
              "      <th>Alloca</th>\n",
              "      <th>Family</th>\n",
              "      <th>Normal</th>\n",
              "      <th>Partial</th>\n",
              "    </tr>\n",
              "  </thead>\n",
              "  <tbody>\n",
              "    <tr>\n",
              "      <th>0</th>\n",
              "      <td>856</td>\n",
              "      <td>854</td>\n",
              "      <td>0</td>\n",
              "      <td>3</td>\n",
              "      <td>706</td>\n",
              "      <td>0</td>\n",
              "      <td>1</td>\n",
              "      <td>0</td>\n",
              "      <td>150</td>\n",
              "      <td>0</td>\n",
              "      <td>0</td>\n",
              "      <td>2</td>\n",
              "      <td>548</td>\n",
              "      <td>2</td>\n",
              "      <td>2003.0</td>\n",
              "      <td>1710</td>\n",
              "      <td>1</td>\n",
              "      <td>1</td>\n",
              "      <td>8450</td>\n",
              "      <td>65.0</td>\n",
              "      <td>0</td>\n",
              "      <td>60</td>\n",
              "      <td>196.0</td>\n",
              "      <td>0</td>\n",
              "      <td>2</td>\n",
              "      <td>61</td>\n",
              "      <td>5</td>\n",
              "      <td>7</td>\n",
              "      <td>0</td>\n",
              "      <td>0</td>\n",
              "      <td>8</td>\n",
              "      <td>856</td>\n",
              "      <td>0</td>\n",
              "      <td>2003</td>\n",
              "      <td>2003</td>\n",
              "      <td>2008</td>\n",
              "      <td>0</td>\n",
              "      <td>0</td>\n",
              "      <td>1</td>\n",
              "      <td>0</td>\n",
              "      <td>...</td>\n",
              "      <td>1</td>\n",
              "      <td>0</td>\n",
              "      <td>1</td>\n",
              "      <td>0</td>\n",
              "      <td>0</td>\n",
              "      <td>0</td>\n",
              "      <td>1</td>\n",
              "      <td>0</td>\n",
              "      <td>0</td>\n",
              "      <td>0</td>\n",
              "      <td>0</td>\n",
              "      <td>1</td>\n",
              "      <td>0</td>\n",
              "      <td>0</td>\n",
              "      <td>0</td>\n",
              "      <td>1</td>\n",
              "      <td>0</td>\n",
              "      <td>0</td>\n",
              "      <td>0</td>\n",
              "      <td>1</td>\n",
              "      <td>1</td>\n",
              "      <td>0</td>\n",
              "      <td>0</td>\n",
              "      <td>0</td>\n",
              "      <td>0</td>\n",
              "      <td>1</td>\n",
              "      <td>0</td>\n",
              "      <td>0</td>\n",
              "      <td>0</td>\n",
              "      <td>0</td>\n",
              "      <td>0</td>\n",
              "      <td>0</td>\n",
              "      <td>0</td>\n",
              "      <td>0</td>\n",
              "      <td>1</td>\n",
              "      <td>0</td>\n",
              "      <td>0</td>\n",
              "      <td>0</td>\n",
              "      <td>1</td>\n",
              "      <td>0</td>\n",
              "    </tr>\n",
              "    <tr>\n",
              "      <th>1</th>\n",
              "      <td>1262</td>\n",
              "      <td>0</td>\n",
              "      <td>0</td>\n",
              "      <td>3</td>\n",
              "      <td>978</td>\n",
              "      <td>0</td>\n",
              "      <td>0</td>\n",
              "      <td>1</td>\n",
              "      <td>284</td>\n",
              "      <td>0</td>\n",
              "      <td>1</td>\n",
              "      <td>2</td>\n",
              "      <td>460</td>\n",
              "      <td>2</td>\n",
              "      <td>1976.0</td>\n",
              "      <td>1262</td>\n",
              "      <td>0</td>\n",
              "      <td>1</td>\n",
              "      <td>9600</td>\n",
              "      <td>80.0</td>\n",
              "      <td>0</td>\n",
              "      <td>20</td>\n",
              "      <td>0.0</td>\n",
              "      <td>0</td>\n",
              "      <td>5</td>\n",
              "      <td>0</td>\n",
              "      <td>8</td>\n",
              "      <td>6</td>\n",
              "      <td>0</td>\n",
              "      <td>0</td>\n",
              "      <td>6</td>\n",
              "      <td>1262</td>\n",
              "      <td>298</td>\n",
              "      <td>1976</td>\n",
              "      <td>1976</td>\n",
              "      <td>2007</td>\n",
              "      <td>0</td>\n",
              "      <td>0</td>\n",
              "      <td>1</td>\n",
              "      <td>0</td>\n",
              "      <td>...</td>\n",
              "      <td>0</td>\n",
              "      <td>0</td>\n",
              "      <td>0</td>\n",
              "      <td>0</td>\n",
              "      <td>0</td>\n",
              "      <td>0</td>\n",
              "      <td>1</td>\n",
              "      <td>0</td>\n",
              "      <td>0</td>\n",
              "      <td>0</td>\n",
              "      <td>0</td>\n",
              "      <td>1</td>\n",
              "      <td>0</td>\n",
              "      <td>0</td>\n",
              "      <td>0</td>\n",
              "      <td>1</td>\n",
              "      <td>0</td>\n",
              "      <td>0</td>\n",
              "      <td>0</td>\n",
              "      <td>1</td>\n",
              "      <td>1</td>\n",
              "      <td>0</td>\n",
              "      <td>0</td>\n",
              "      <td>0</td>\n",
              "      <td>0</td>\n",
              "      <td>1</td>\n",
              "      <td>0</td>\n",
              "      <td>0</td>\n",
              "      <td>0</td>\n",
              "      <td>0</td>\n",
              "      <td>0</td>\n",
              "      <td>0</td>\n",
              "      <td>0</td>\n",
              "      <td>0</td>\n",
              "      <td>1</td>\n",
              "      <td>0</td>\n",
              "      <td>0</td>\n",
              "      <td>0</td>\n",
              "      <td>1</td>\n",
              "      <td>0</td>\n",
              "    </tr>\n",
              "    <tr>\n",
              "      <th>2</th>\n",
              "      <td>920</td>\n",
              "      <td>866</td>\n",
              "      <td>0</td>\n",
              "      <td>3</td>\n",
              "      <td>486</td>\n",
              "      <td>0</td>\n",
              "      <td>1</td>\n",
              "      <td>0</td>\n",
              "      <td>434</td>\n",
              "      <td>0</td>\n",
              "      <td>1</td>\n",
              "      <td>2</td>\n",
              "      <td>608</td>\n",
              "      <td>2</td>\n",
              "      <td>2001.0</td>\n",
              "      <td>1786</td>\n",
              "      <td>1</td>\n",
              "      <td>1</td>\n",
              "      <td>11250</td>\n",
              "      <td>68.0</td>\n",
              "      <td>0</td>\n",
              "      <td>60</td>\n",
              "      <td>162.0</td>\n",
              "      <td>0</td>\n",
              "      <td>9</td>\n",
              "      <td>42</td>\n",
              "      <td>5</td>\n",
              "      <td>7</td>\n",
              "      <td>0</td>\n",
              "      <td>0</td>\n",
              "      <td>6</td>\n",
              "      <td>920</td>\n",
              "      <td>0</td>\n",
              "      <td>2001</td>\n",
              "      <td>2002</td>\n",
              "      <td>2008</td>\n",
              "      <td>0</td>\n",
              "      <td>0</td>\n",
              "      <td>1</td>\n",
              "      <td>0</td>\n",
              "      <td>...</td>\n",
              "      <td>0</td>\n",
              "      <td>0</td>\n",
              "      <td>1</td>\n",
              "      <td>0</td>\n",
              "      <td>0</td>\n",
              "      <td>0</td>\n",
              "      <td>1</td>\n",
              "      <td>0</td>\n",
              "      <td>0</td>\n",
              "      <td>0</td>\n",
              "      <td>0</td>\n",
              "      <td>1</td>\n",
              "      <td>0</td>\n",
              "      <td>0</td>\n",
              "      <td>0</td>\n",
              "      <td>1</td>\n",
              "      <td>0</td>\n",
              "      <td>0</td>\n",
              "      <td>0</td>\n",
              "      <td>1</td>\n",
              "      <td>1</td>\n",
              "      <td>0</td>\n",
              "      <td>0</td>\n",
              "      <td>0</td>\n",
              "      <td>0</td>\n",
              "      <td>1</td>\n",
              "      <td>0</td>\n",
              "      <td>0</td>\n",
              "      <td>0</td>\n",
              "      <td>0</td>\n",
              "      <td>0</td>\n",
              "      <td>0</td>\n",
              "      <td>0</td>\n",
              "      <td>0</td>\n",
              "      <td>1</td>\n",
              "      <td>0</td>\n",
              "      <td>0</td>\n",
              "      <td>0</td>\n",
              "      <td>1</td>\n",
              "      <td>0</td>\n",
              "    </tr>\n",
              "    <tr>\n",
              "      <th>3</th>\n",
              "      <td>961</td>\n",
              "      <td>756</td>\n",
              "      <td>0</td>\n",
              "      <td>3</td>\n",
              "      <td>216</td>\n",
              "      <td>0</td>\n",
              "      <td>1</td>\n",
              "      <td>0</td>\n",
              "      <td>540</td>\n",
              "      <td>272</td>\n",
              "      <td>1</td>\n",
              "      <td>1</td>\n",
              "      <td>642</td>\n",
              "      <td>3</td>\n",
              "      <td>1998.0</td>\n",
              "      <td>1717</td>\n",
              "      <td>0</td>\n",
              "      <td>1</td>\n",
              "      <td>9550</td>\n",
              "      <td>60.0</td>\n",
              "      <td>0</td>\n",
              "      <td>70</td>\n",
              "      <td>0.0</td>\n",
              "      <td>0</td>\n",
              "      <td>2</td>\n",
              "      <td>35</td>\n",
              "      <td>5</td>\n",
              "      <td>7</td>\n",
              "      <td>0</td>\n",
              "      <td>0</td>\n",
              "      <td>7</td>\n",
              "      <td>756</td>\n",
              "      <td>0</td>\n",
              "      <td>1915</td>\n",
              "      <td>1970</td>\n",
              "      <td>2006</td>\n",
              "      <td>0</td>\n",
              "      <td>0</td>\n",
              "      <td>1</td>\n",
              "      <td>0</td>\n",
              "      <td>...</td>\n",
              "      <td>1</td>\n",
              "      <td>0</td>\n",
              "      <td>0</td>\n",
              "      <td>0</td>\n",
              "      <td>0</td>\n",
              "      <td>0</td>\n",
              "      <td>1</td>\n",
              "      <td>0</td>\n",
              "      <td>0</td>\n",
              "      <td>0</td>\n",
              "      <td>0</td>\n",
              "      <td>1</td>\n",
              "      <td>0</td>\n",
              "      <td>0</td>\n",
              "      <td>0</td>\n",
              "      <td>1</td>\n",
              "      <td>0</td>\n",
              "      <td>0</td>\n",
              "      <td>0</td>\n",
              "      <td>1</td>\n",
              "      <td>0</td>\n",
              "      <td>0</td>\n",
              "      <td>0</td>\n",
              "      <td>0</td>\n",
              "      <td>1</td>\n",
              "      <td>0</td>\n",
              "      <td>0</td>\n",
              "      <td>0</td>\n",
              "      <td>0</td>\n",
              "      <td>0</td>\n",
              "      <td>0</td>\n",
              "      <td>0</td>\n",
              "      <td>0</td>\n",
              "      <td>0</td>\n",
              "      <td>1</td>\n",
              "      <td>0</td>\n",
              "      <td>0</td>\n",
              "      <td>0</td>\n",
              "      <td>0</td>\n",
              "      <td>0</td>\n",
              "    </tr>\n",
              "    <tr>\n",
              "      <th>4</th>\n",
              "      <td>1145</td>\n",
              "      <td>1053</td>\n",
              "      <td>0</td>\n",
              "      <td>4</td>\n",
              "      <td>655</td>\n",
              "      <td>0</td>\n",
              "      <td>1</td>\n",
              "      <td>0</td>\n",
              "      <td>490</td>\n",
              "      <td>0</td>\n",
              "      <td>1</td>\n",
              "      <td>2</td>\n",
              "      <td>836</td>\n",
              "      <td>3</td>\n",
              "      <td>2000.0</td>\n",
              "      <td>2198</td>\n",
              "      <td>1</td>\n",
              "      <td>1</td>\n",
              "      <td>14260</td>\n",
              "      <td>84.0</td>\n",
              "      <td>0</td>\n",
              "      <td>60</td>\n",
              "      <td>350.0</td>\n",
              "      <td>0</td>\n",
              "      <td>12</td>\n",
              "      <td>84</td>\n",
              "      <td>5</td>\n",
              "      <td>8</td>\n",
              "      <td>0</td>\n",
              "      <td>0</td>\n",
              "      <td>9</td>\n",
              "      <td>1145</td>\n",
              "      <td>192</td>\n",
              "      <td>2000</td>\n",
              "      <td>2000</td>\n",
              "      <td>2008</td>\n",
              "      <td>0</td>\n",
              "      <td>0</td>\n",
              "      <td>1</td>\n",
              "      <td>0</td>\n",
              "      <td>...</td>\n",
              "      <td>0</td>\n",
              "      <td>0</td>\n",
              "      <td>1</td>\n",
              "      <td>0</td>\n",
              "      <td>0</td>\n",
              "      <td>0</td>\n",
              "      <td>1</td>\n",
              "      <td>0</td>\n",
              "      <td>0</td>\n",
              "      <td>0</td>\n",
              "      <td>0</td>\n",
              "      <td>1</td>\n",
              "      <td>0</td>\n",
              "      <td>0</td>\n",
              "      <td>0</td>\n",
              "      <td>1</td>\n",
              "      <td>0</td>\n",
              "      <td>0</td>\n",
              "      <td>0</td>\n",
              "      <td>1</td>\n",
              "      <td>1</td>\n",
              "      <td>0</td>\n",
              "      <td>0</td>\n",
              "      <td>0</td>\n",
              "      <td>0</td>\n",
              "      <td>1</td>\n",
              "      <td>0</td>\n",
              "      <td>0</td>\n",
              "      <td>0</td>\n",
              "      <td>0</td>\n",
              "      <td>0</td>\n",
              "      <td>0</td>\n",
              "      <td>0</td>\n",
              "      <td>0</td>\n",
              "      <td>1</td>\n",
              "      <td>0</td>\n",
              "      <td>0</td>\n",
              "      <td>0</td>\n",
              "      <td>1</td>\n",
              "      <td>0</td>\n",
              "    </tr>\n",
              "  </tbody>\n",
              "</table>\n",
              "<p>5 rows × 176 columns</p>\n",
              "</div>"
            ],
            "text/plain": [
              "   1stFlrSF  2ndFlrSF  3SsnPorch  BedroomAbvGr  ...  Alloca  Family  Normal  Partial\n",
              "0       856       854          0             3  ...       0       0       1        0\n",
              "1      1262         0          0             3  ...       0       0       1        0\n",
              "2       920       866          0             3  ...       0       0       1        0\n",
              "3       961       756          0             3  ...       0       0       0        0\n",
              "4      1145      1053          0             4  ...       0       0       1        0\n",
              "\n",
              "[5 rows x 176 columns]"
            ]
          },
          "metadata": {
            "tags": []
          },
          "execution_count": 3
        }
      ]
    },
    {
      "cell_type": "code",
      "metadata": {
        "id": "0WpC4Fxe61t9",
        "colab_type": "code",
        "colab": {}
      },
      "source": [
        "y_train = pd.read_csv(\"/content/drive/My Drive/house price/y_train.csv\")"
      ],
      "execution_count": 0,
      "outputs": []
    },
    {
      "cell_type": "code",
      "metadata": {
        "id": "Hnpam5Ph74Ms",
        "colab_type": "code",
        "colab": {
          "base_uri": "https://localhost:8080/",
          "height": 204
        },
        "outputId": "2b7ccfb4-c3d2-4076-fd3f-a82498884143"
      },
      "source": [
        "y_train.head()"
      ],
      "execution_count": 5,
      "outputs": [
        {
          "output_type": "execute_result",
          "data": {
            "text/html": [
              "<div>\n",
              "<style scoped>\n",
              "    .dataframe tbody tr th:only-of-type {\n",
              "        vertical-align: middle;\n",
              "    }\n",
              "\n",
              "    .dataframe tbody tr th {\n",
              "        vertical-align: top;\n",
              "    }\n",
              "\n",
              "    .dataframe thead th {\n",
              "        text-align: right;\n",
              "    }\n",
              "</style>\n",
              "<table border=\"1\" class=\"dataframe\">\n",
              "  <thead>\n",
              "    <tr style=\"text-align: right;\">\n",
              "      <th></th>\n",
              "      <th>SalePrice</th>\n",
              "    </tr>\n",
              "  </thead>\n",
              "  <tbody>\n",
              "    <tr>\n",
              "      <th>0</th>\n",
              "      <td>208500</td>\n",
              "    </tr>\n",
              "    <tr>\n",
              "      <th>1</th>\n",
              "      <td>181500</td>\n",
              "    </tr>\n",
              "    <tr>\n",
              "      <th>2</th>\n",
              "      <td>223500</td>\n",
              "    </tr>\n",
              "    <tr>\n",
              "      <th>3</th>\n",
              "      <td>140000</td>\n",
              "    </tr>\n",
              "    <tr>\n",
              "      <th>4</th>\n",
              "      <td>250000</td>\n",
              "    </tr>\n",
              "  </tbody>\n",
              "</table>\n",
              "</div>"
            ],
            "text/plain": [
              "   SalePrice\n",
              "0     208500\n",
              "1     181500\n",
              "2     223500\n",
              "3     140000\n",
              "4     250000"
            ]
          },
          "metadata": {
            "tags": []
          },
          "execution_count": 5
        }
      ]
    },
    {
      "cell_type": "code",
      "metadata": {
        "id": "EvvNuytGCQMi",
        "colab_type": "code",
        "colab": {}
      },
      "source": [
        "x_test = pd.read_csv(\"/content/drive/My Drive/house price/x_test.csv\")"
      ],
      "execution_count": 0,
      "outputs": []
    },
    {
      "cell_type": "code",
      "metadata": {
        "id": "ynuplwYsCrMw",
        "colab_type": "code",
        "colab": {}
      },
      "source": [
        "XX = x_train.to_numpy()\n",
        "YX = y_train.to_numpy()\n",
        "XY = x_test.to_numpy()"
      ],
      "execution_count": 0,
      "outputs": []
    },
    {
      "cell_type": "code",
      "metadata": {
        "id": "MLBR472H_4Rz",
        "colab_type": "code",
        "colab": {}
      },
      "source": [
        "YY = YX.reshape(1460,)"
      ],
      "execution_count": 0,
      "outputs": []
    },
    {
      "cell_type": "code",
      "metadata": {
        "id": "oQk0aqYN2ZZp",
        "colab_type": "code",
        "colab": {
          "base_uri": "https://localhost:8080/",
          "height": 68
        },
        "outputId": "16031e48-b7ca-4663-b66c-a66e060f3ced"
      },
      "source": [
        "from sklearn.linear_model import LinearRegression, RidgeCV\n",
        "ridge = RidgeCV(alphas = [0.01, 0.03, 0.06, 0.1, 0.3, 0.6, 1, 3, 6, 7, 8, 9, 10, 30, 60])\n",
        "ridge.fit(XX, YX)\n",
        "alpha = ridge.alpha_\n",
        "print(\"Best alpha :\", alpha)\n",
        "\n",
        "print(\"Trying again for more precision alpha values \" + str(alpha))\n",
        "ridge = RidgeCV(alphas = [alpha * .6, alpha * .65, alpha * .7, alpha * .75, alpha * .8, alpha * .85, \n",
        "                          alpha * .9, alpha * .95, alpha, alpha * 1.05, alpha * 1.1, alpha * 1.15,\n",
        "                          alpha * 1.25, alpha * 1.3, alpha * 1.35, alpha * 1.4], cv = 10)\n",
        "\n",
        "ridge_fit = ridge.fit(XX, YY)\n",
        "alpha = ridge.alpha_\n",
        "print(\"Best alpha :\", alpha)\n",
        "ridge_predictions = ridge.predict(XY)"
      ],
      "execution_count": 21,
      "outputs": [
        {
          "output_type": "stream",
          "text": [
            "Best alpha : 6.0\n",
            "Trying again for more precision alpha values 6.0\n",
            "Best alpha : 8.399999999999999\n"
          ],
          "name": "stdout"
        }
      ]
    },
    {
      "cell_type": "code",
      "metadata": {
        "id": "2UCmN9XB2fR1",
        "colab_type": "code",
        "colab": {
          "base_uri": "https://localhost:8080/",
          "height": 71
        },
        "outputId": "c719fd85-23db-4e40-a45b-755be54e24b2"
      },
      "source": [
        "from sklearn.linear_model import Lasso\n",
        "from sklearn.model_selection import GridSearchCV\n",
        "lasso = Lasso(max_iter = 5000, alpha = 11.2)\n",
        "lasso_fit = lasso.fit(XX, YY)\n",
        "lasso_predictions = lasso.predict(XY)"
      ],
      "execution_count": 22,
      "outputs": [
        {
          "output_type": "stream",
          "text": [
            "/usr/local/lib/python3.6/dist-packages/sklearn/linear_model/coordinate_descent.py:475: ConvergenceWarning: Objective did not converge. You might want to increase the number of iterations. Duality gap: 381956019921.2762, tolerance: 920791133.4609975\n",
            "  positive)\n"
          ],
          "name": "stderr"
        }
      ]
    },
    {
      "cell_type": "code",
      "metadata": {
        "id": "hFu67riu2jIJ",
        "colab_type": "code",
        "colab": {}
      },
      "source": [
        "import xgboost as xgb\n",
        "gbm = xgb.XGBRegressor(\n",
        "                 colsample_bytree=0.1,   #ratio_of_constructing_each_tree\n",
        "                 gamma=0.0,              #loss_reduction_param\n",
        "                 learning_rate=0.01,     #for_updating_param\n",
        "                 max_depth=3,            #maximum_depth_of_tree\n",
        "                 min_child_weight=0,     #minimum_sum_of_child_weight\n",
        "                 n_estimators=10000,     #total_no_of_iterations                                                                   \n",
        "                 reg_alpha=0.0006,       #updating_coefficient_L1_regularization_term\n",
        "                 reg_lambda=0.6,         #updating_coefficient_L2_regularization_term\n",
        "                 subsample=0.7,          #sampling_training_data_randomly\n",
        "                 seed=30,                #random_number_seed\n",
        "                 silent=1)               #occurence_of_message\n",
        "gbm_fit = gbm.fit(XX, YY)\n",
        "gbm_predictions = gbm.predict(XY)"
      ],
      "execution_count": 0,
      "outputs": []
    },
    {
      "cell_type": "code",
      "metadata": {
        "id": "5REtuD4u2mIs",
        "colab_type": "code",
        "colab": {}
      },
      "source": [
        "import lightgbm as lgb\n",
        "lgb = lgb.LGBMRegressor(objective='regression',     \n",
        "                        num_leaves=5,                  #num_of_leaves in a tree\n",
        "                        learning_rate=0.05,            #updating_weights_to_mimize_loss\n",
        "                        n_estimators=5000,             #num_of_iterations\n",
        "                        max_bin = 55,                  #num_of_bins_binning_refers_to_continous_unique_value\n",
        "                        bagging_fraction = 0.8,        #select_random_data_samples\n",
        "                        bagging_freq = 5,              #perform_bagging_at_k_iteration\n",
        "                        feature_fraction = 0.2319,     #randomly_select_feature_here_23%\n",
        "                        feature_fraction_seed=9,       #random_seed_for_feature_fraction\n",
        "                        bagging_seed=9,                #random_seed_for_bagging\n",
        "                        min_data_in_leaf =6,           #minimum_no_leaf\n",
        "                        min_sum_hessian_in_leaf = 11)\n",
        "lgb = lgb.fit(XX, YY)\n",
        "lgb_predictions = lgb.predict(XY)"
      ],
      "execution_count": 0,
      "outputs": []
    },
    {
      "cell_type": "code",
      "metadata": {
        "id": "xycYLNq574Iv",
        "colab_type": "code",
        "colab": {}
      },
      "source": [
        ""
      ],
      "execution_count": 0,
      "outputs": []
    },
    {
      "cell_type": "code",
      "metadata": {
        "id": "5l6897Rs3dxK",
        "colab_type": "code",
        "colab": {}
      },
      "source": [
        "from mlxtend.regressor import StackingCVRegressor\n",
        "stack_gen = StackingCVRegressor(regressors=(lgb,lasso,ridge),\n",
        "                                meta_regressor=gbm,\n",
        "                                use_features_in_secondary=True)\n"
      ],
      "execution_count": 0,
      "outputs": []
    },
    {
      "cell_type": "code",
      "metadata": {
        "id": "zy34ujxb3hcY",
        "colab_type": "code",
        "colab": {
          "base_uri": "https://localhost:8080/",
          "height": 836
        },
        "outputId": "6b12d2aa-581c-4e9a-dc9f-7e561132a4c9"
      },
      "source": [
        "stack_gen.fit(XX,YY)"
      ],
      "execution_count": 26,
      "outputs": [
        {
          "output_type": "stream",
          "text": [
            "/usr/local/lib/python3.6/dist-packages/sklearn/linear_model/coordinate_descent.py:475: ConvergenceWarning: Objective did not converge. You might want to increase the number of iterations. Duality gap: 294473812675.31274, tolerance: 673724696.8072952\n",
            "  positive)\n",
            "/usr/local/lib/python3.6/dist-packages/sklearn/linear_model/coordinate_descent.py:475: ConvergenceWarning: Objective did not converge. You might want to increase the number of iterations. Duality gap: 264241104748.64517, tolerance: 737691490.9028124\n",
            "  positive)\n",
            "/usr/local/lib/python3.6/dist-packages/sklearn/linear_model/coordinate_descent.py:475: ConvergenceWarning: Objective did not converge. You might want to increase the number of iterations. Duality gap: 303519259926.4163, tolerance: 730758198.0951958\n",
            "  positive)\n",
            "/usr/local/lib/python3.6/dist-packages/sklearn/linear_model/coordinate_descent.py:475: ConvergenceWarning: Objective did not converge. You might want to increase the number of iterations. Duality gap: 316614481915.3638, tolerance: 780921117.3816015\n",
            "  positive)\n",
            "/usr/local/lib/python3.6/dist-packages/sklearn/linear_model/coordinate_descent.py:475: ConvergenceWarning: Objective did not converge. You might want to increase the number of iterations. Duality gap: 247315307265.92154, tolerance: 758361893.0537311\n",
            "  positive)\n",
            "/usr/local/lib/python3.6/dist-packages/sklearn/model_selection/_search.py:814: DeprecationWarning: The default of the `iid` parameter will change from True to False in version 0.22 and will be removed in 0.24. This will change numeric results when test-set sizes are unequal.\n",
            "  DeprecationWarning)\n",
            "/usr/local/lib/python3.6/dist-packages/sklearn/model_selection/_search.py:814: DeprecationWarning: The default of the `iid` parameter will change from True to False in version 0.22 and will be removed in 0.24. This will change numeric results when test-set sizes are unequal.\n",
            "  DeprecationWarning)\n",
            "/usr/local/lib/python3.6/dist-packages/sklearn/model_selection/_search.py:814: DeprecationWarning: The default of the `iid` parameter will change from True to False in version 0.22 and will be removed in 0.24. This will change numeric results when test-set sizes are unequal.\n",
            "  DeprecationWarning)\n",
            "/usr/local/lib/python3.6/dist-packages/sklearn/model_selection/_search.py:814: DeprecationWarning: The default of the `iid` parameter will change from True to False in version 0.22 and will be removed in 0.24. This will change numeric results when test-set sizes are unequal.\n",
            "  DeprecationWarning)\n",
            "/usr/local/lib/python3.6/dist-packages/sklearn/linear_model/coordinate_descent.py:475: ConvergenceWarning: Objective did not converge. You might want to increase the number of iterations. Duality gap: 381956019921.2762, tolerance: 920791133.4609975\n",
            "  positive)\n"
          ],
          "name": "stderr"
        },
        {
          "output_type": "execute_result",
          "data": {
            "text/plain": [
              "StackingCVRegressor(cv=5,\n",
              "                    meta_regressor=XGBRegressor(base_score=0.5,\n",
              "                                                booster='gbtree',\n",
              "                                                colsample_bylevel=1,\n",
              "                                                colsample_bynode=1,\n",
              "                                                colsample_bytree=0.1, gamma=0.0,\n",
              "                                                importance_type='gain',\n",
              "                                                learning_rate=0.01,\n",
              "                                                max_delta_step=0, max_depth=3,\n",
              "                                                min_child_weight=0,\n",
              "                                                missing=None,\n",
              "                                                n_estimators=10000, n_jobs=1,\n",
              "                                                nthread=None,\n",
              "                                                objective='reg:linear',\n",
              "                                                random_state=0,\n",
              "                                                reg_alpha=0.0...\n",
              "                                      normalize=False, positive=False,\n",
              "                                      precompute=False, random_state=None,\n",
              "                                      selection='cyclic', tol=0.0001,\n",
              "                                      warm_start=False),\n",
              "                                RidgeCV(alphas=array([3.6, 3.9, 4.2, 4.5, 4.8, 5.1, 5.4, 5.7, 6. , 6.3, 6.6, 6.9, 7.5,\n",
              "       7.8, 8.1, 8.4]),\n",
              "                                        cv=10, fit_intercept=True,\n",
              "                                        gcv_mode=None, normalize=False,\n",
              "                                        scoring=None, store_cv_values=False)),\n",
              "                    shuffle=True, store_train_meta_features=False,\n",
              "                    use_features_in_secondary=True)"
            ]
          },
          "metadata": {
            "tags": []
          },
          "execution_count": 26
        }
      ]
    },
    {
      "cell_type": "code",
      "metadata": {
        "id": "swhET-RkD2Yw",
        "colab_type": "code",
        "colab": {}
      },
      "source": [
        "stack_pred = stack_gen.predict(XY)"
      ],
      "execution_count": 0,
      "outputs": []
    },
    {
      "cell_type": "code",
      "metadata": {
        "id": "lmiXB9TOEU6n",
        "colab_type": "code",
        "colab": {
          "base_uri": "https://localhost:8080/",
          "height": 34
        },
        "outputId": "601cbcf7-9ae4-4aba-addf-823dd13c37e3"
      },
      "source": [
        "len(stack_pred)"
      ],
      "execution_count": 32,
      "outputs": [
        {
          "output_type": "execute_result",
          "data": {
            "text/plain": [
              "1459"
            ]
          },
          "metadata": {
            "tags": []
          },
          "execution_count": 32
        }
      ]
    },
    {
      "cell_type": "code",
      "metadata": {
        "id": "gqDuUNOTEaMp",
        "colab_type": "code",
        "colab": {}
      },
      "source": [
        "sample = pd.read_csv(\"/content/drive/My Drive/house price/sample_submission.csv\")#sample submission file"
      ],
      "execution_count": 0,
      "outputs": []
    },
    {
      "cell_type": "code",
      "metadata": {
        "id": "WHmwtdgVEjoJ",
        "colab_type": "code",
        "colab": {
          "base_uri": "https://localhost:8080/",
          "height": 204
        },
        "outputId": "ae389346-a00d-4bd5-ce5b-28b7528528fa"
      },
      "source": [
        "sample.head()"
      ],
      "execution_count": 34,
      "outputs": [
        {
          "output_type": "execute_result",
          "data": {
            "text/html": [
              "<div>\n",
              "<style scoped>\n",
              "    .dataframe tbody tr th:only-of-type {\n",
              "        vertical-align: middle;\n",
              "    }\n",
              "\n",
              "    .dataframe tbody tr th {\n",
              "        vertical-align: top;\n",
              "    }\n",
              "\n",
              "    .dataframe thead th {\n",
              "        text-align: right;\n",
              "    }\n",
              "</style>\n",
              "<table border=\"1\" class=\"dataframe\">\n",
              "  <thead>\n",
              "    <tr style=\"text-align: right;\">\n",
              "      <th></th>\n",
              "      <th>Id</th>\n",
              "      <th>SalePrice</th>\n",
              "    </tr>\n",
              "  </thead>\n",
              "  <tbody>\n",
              "    <tr>\n",
              "      <th>0</th>\n",
              "      <td>1461</td>\n",
              "      <td>169277.052498</td>\n",
              "    </tr>\n",
              "    <tr>\n",
              "      <th>1</th>\n",
              "      <td>1462</td>\n",
              "      <td>187758.393989</td>\n",
              "    </tr>\n",
              "    <tr>\n",
              "      <th>2</th>\n",
              "      <td>1463</td>\n",
              "      <td>183583.683570</td>\n",
              "    </tr>\n",
              "    <tr>\n",
              "      <th>3</th>\n",
              "      <td>1464</td>\n",
              "      <td>179317.477511</td>\n",
              "    </tr>\n",
              "    <tr>\n",
              "      <th>4</th>\n",
              "      <td>1465</td>\n",
              "      <td>150730.079977</td>\n",
              "    </tr>\n",
              "  </tbody>\n",
              "</table>\n",
              "</div>"
            ],
            "text/plain": [
              "     Id      SalePrice\n",
              "0  1461  169277.052498\n",
              "1  1462  187758.393989\n",
              "2  1463  183583.683570\n",
              "3  1464  179317.477511\n",
              "4  1465  150730.079977"
            ]
          },
          "metadata": {
            "tags": []
          },
          "execution_count": 34
        }
      ]
    },
    {
      "cell_type": "code",
      "metadata": {
        "id": "Eic63_kkGbhc",
        "colab_type": "code",
        "colab": {
          "base_uri": "https://localhost:8080/",
          "height": 51
        },
        "outputId": "8c6dc9a8-fc8e-4bfc-ad52-dd75d51cc9e4"
      },
      "source": [
        "best = pd.read_csv('/content/drive/My Drive/house price/sample_submission2.csv')#my last submission file of ANN\n",
        "blend = stack_pred*0.50+best.SalePrice.values*0.50\n",
        "blend"
      ],
      "execution_count": 38,
      "outputs": [
        {
          "output_type": "execute_result",
          "data": {
            "text/plain": [
              "array([127773.020625  , 165165.0328125 , 188465.7053125 , ...,\n",
              "       181458.8996875 , 120676.32546875, 220033.9278125 ])"
            ]
          },
          "metadata": {
            "tags": []
          },
          "execution_count": 38
        }
      ]
    },
    {
      "cell_type": "code",
      "metadata": {
        "id": "6OReDf_uElPO",
        "colab_type": "code",
        "colab": {}
      },
      "source": [
        "sample['SalePrice'] = blend"
      ],
      "execution_count": 0,
      "outputs": []
    },
    {
      "cell_type": "code",
      "metadata": {
        "id": "dzMR3oQkE4wi",
        "colab_type": "code",
        "colab": {
          "base_uri": "https://localhost:8080/",
          "height": 204
        },
        "outputId": "cee26b3e-abc0-42b2-a602-e66a69405961"
      },
      "source": [
        "sample.head()"
      ],
      "execution_count": 40,
      "outputs": [
        {
          "output_type": "execute_result",
          "data": {
            "text/html": [
              "<div>\n",
              "<style scoped>\n",
              "    .dataframe tbody tr th:only-of-type {\n",
              "        vertical-align: middle;\n",
              "    }\n",
              "\n",
              "    .dataframe tbody tr th {\n",
              "        vertical-align: top;\n",
              "    }\n",
              "\n",
              "    .dataframe thead th {\n",
              "        text-align: right;\n",
              "    }\n",
              "</style>\n",
              "<table border=\"1\" class=\"dataframe\">\n",
              "  <thead>\n",
              "    <tr style=\"text-align: right;\">\n",
              "      <th></th>\n",
              "      <th>Id</th>\n",
              "      <th>SalePrice</th>\n",
              "    </tr>\n",
              "  </thead>\n",
              "  <tbody>\n",
              "    <tr>\n",
              "      <th>0</th>\n",
              "      <td>1461</td>\n",
              "      <td>127773.020625</td>\n",
              "    </tr>\n",
              "    <tr>\n",
              "      <th>1</th>\n",
              "      <td>1462</td>\n",
              "      <td>165165.032812</td>\n",
              "    </tr>\n",
              "    <tr>\n",
              "      <th>2</th>\n",
              "      <td>1463</td>\n",
              "      <td>188465.705313</td>\n",
              "    </tr>\n",
              "    <tr>\n",
              "      <th>3</th>\n",
              "      <td>1464</td>\n",
              "      <td>196813.781250</td>\n",
              "    </tr>\n",
              "    <tr>\n",
              "      <th>4</th>\n",
              "      <td>1465</td>\n",
              "      <td>184219.404688</td>\n",
              "    </tr>\n",
              "  </tbody>\n",
              "</table>\n",
              "</div>"
            ],
            "text/plain": [
              "     Id      SalePrice\n",
              "0  1461  127773.020625\n",
              "1  1462  165165.032812\n",
              "2  1463  188465.705313\n",
              "3  1464  196813.781250\n",
              "4  1465  184219.404688"
            ]
          },
          "metadata": {
            "tags": []
          },
          "execution_count": 40
        }
      ]
    },
    {
      "cell_type": "code",
      "metadata": {
        "id": "Ez2UIt8ZE6f0",
        "colab_type": "code",
        "colab": {}
      },
      "source": [
        "sample.to_csv(\"/content/drive/My Drive/house price/final.csv\")"
      ],
      "execution_count": 0,
      "outputs": []
    },
    {
      "cell_type": "code",
      "metadata": {
        "id": "dDl38H1xFAJx",
        "colab_type": "code",
        "colab": {}
      },
      "source": [
        ""
      ],
      "execution_count": 0,
      "outputs": []
    }
  ]
}